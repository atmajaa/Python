{
  "nbformat": 4,
  "nbformat_minor": 0,
  "metadata": {
    "colab": {
      "provenance": []
    },
    "kernelspec": {
      "name": "python3",
      "display_name": "Python 3"
    },
    "language_info": {
      "name": "python"
    }
  },
  "cells": [
    {
      "cell_type": "code",
      "execution_count": 4,
      "metadata": {
        "colab": {
          "base_uri": "https://localhost:8080/"
        },
        "id": "6O-c5XVPz0mQ",
        "outputId": "1c908b67-57d6-44b2-95cc-0af3b5dff46c"
      },
      "outputs": [
        {
          "output_type": "stream",
          "name": "stdout",
          "text": [
            "Department of examination\n",
            "Department of Information Technology\n",
            "Information Process resources\n"
          ]
        }
      ],
      "source": [
        "class University:\n",
        "  def IPR(self):\n",
        "    print(\"Information Process resources\")\n",
        "  def IT(self):\n",
        "    print(\"Department of Information Technology\")\n",
        "  def Exam(self):\n",
        "    print(\"Department of examination\")\n",
        "\n",
        "VIT = University()\n",
        "NIT = University()\n",
        "IIT = University()\n",
        "VIT.Exam()\n",
        "NIT.IT()\n",
        "IIT.IPR()"
      ]
    },
    {
      "cell_type": "code",
      "source": [
        "#Create a class that displays the basic functional units of any university present in India. Call this class with various universities available in India\n",
        "#to display the working of various departments.\n",
        "#Create a class for the vehicles. Every vehicle is having some unique ways in following points. 1) Total No. of wheels\n",
        "#2)Engine type 3) Engine number. Create the object for this class for two wheelers and three wheelers. Execute various functions with various objects"
      ],
      "metadata": {
        "id": "6oorH6Mu1rtK"
      },
      "execution_count": 7,
      "outputs": []
    },
    {
      "cell_type": "code",
      "source": [
        "class University:\n",
        "  def admission(self):\n",
        "    print(\"Admission office\")\n",
        "  def PAT(self):\n",
        "    print(\"Placement and Training\")\n",
        "  def antiRagging(self):\n",
        "    print(\"Anti Ragging committe\")\n",
        "\n",
        "SNDT = University()\n",
        "VIT = University()\n",
        "\n",
        "SNDT.admission()\n",
        "VIT.PAT()"
      ],
      "metadata": {
        "colab": {
          "base_uri": "https://localhost:8080/"
        },
        "id": "8HLX9K2v18fg",
        "outputId": "a404195f-a930-40b4-c92c-2d0c1ad93500"
      },
      "execution_count": 9,
      "outputs": [
        {
          "output_type": "stream",
          "name": "stdout",
          "text": [
            "Admission office\n",
            "Placement and Training\n"
          ]
        }
      ]
    },
    {
      "cell_type": "code",
      "source": [
        "class Vehicle:\n",
        "  def noOfWheels(self, noOfWheels):\n",
        "    self.noOfWheels = noOfWheels\n",
        "    if(noOfWheels == 2):\n",
        "      print(\"Two wheeler \")\n",
        "    elif(noOfWheels == 4):\n",
        "      print(\"four wheeler\")\n",
        "    else:\n",
        "      print(\"Invalid\")\n",
        "  def engineType(self, type):\n",
        "    self.type = type\n",
        "    print(\"Engine Type - \", type)\n",
        "  def engineNumber(self, number):\n",
        "    self.number = number\n",
        "    print(\"Engine number - \", number)\n",
        "fourWheeler = Vehicle()\n",
        "fourWheeler.noOfWheels(4)\n",
        "fourWheeler.engineNumber(54545)\n",
        "fourWheeler.engineType(\"CNG\")"
      ],
      "metadata": {
        "colab": {
          "base_uri": "https://localhost:8080/"
        },
        "id": "7ze6KDdm3rsp",
        "outputId": "23c3adaa-d16f-45af-f3a1-4b71814a39ca"
      },
      "execution_count": 15,
      "outputs": [
        {
          "output_type": "stream",
          "name": "stdout",
          "text": [
            "four wheeler\n",
            "Engine number -  54545\n",
            "Engine Type -  CNG\n"
          ]
        }
      ]
    },
    {
      "cell_type": "code",
      "source": [
        "class bikers:\n",
        "  def biker_fees(self,fees):\n",
        "    print(\"my fees - \", fees)\n",
        "  def engine_type(self, type):\n",
        "    print(\"type - \", type)\n",
        "  def engine_number(self, num):\n",
        "    print(\"Engine number - \", num)\n",
        "two_wheelers = bikers()\n",
        "three_wheeler = bikers()\n",
        "\n",
        "two_wheelers.biker_fees(1000)\n",
        "two_wheelers.engine_number(4782)\n",
        "two_wheelers.engine_type(\"CNG\")"
      ],
      "metadata": {
        "colab": {
          "base_uri": "https://localhost:8080/"
        },
        "id": "vvSclI607cy9",
        "outputId": "08386fd8-ad83-437c-8f5c-e9e058cfafb9"
      },
      "execution_count": 16,
      "outputs": [
        {
          "output_type": "stream",
          "name": "stdout",
          "text": [
            "my fees -  1000\n",
            "Engine number -  4782\n",
            "type -  CNG\n"
          ]
        }
      ]
    },
    {
      "cell_type": "code",
      "source": [
        "#Create a class for mobiles. Every mobile is having some features like total no. of cameras, processing speed, recording facility. Create the object of this mobile\n",
        "#class with samsung, oppo and apple. Take the features from users for each object and display that."
      ],
      "metadata": {
        "id": "M9ndIsxW8aqa"
      },
      "execution_count": 17,
      "outputs": []
    },
    {
      "cell_type": "code",
      "source": [
        "class Mobile:\n",
        "  def noOfCamera(self):\n",
        "    noOfCamera = input(\"Enter total number of camera\")\n",
        "    print(\"Total number of camera - \" , noOfCamera)\n",
        "  def processingSpeed(self):\n",
        "    speed = input(\"Enter processing speed\")\n",
        "    print(\"Processing speed - \", speed)\n",
        "  def recordingFacility(self):\n",
        "    recording = input(\"Enter recording facility\")\n",
        "    print(\"Recording facility - \", recording)\n",
        "\n",
        "oppo = Mobile()\n",
        "samsung = Mobile()\n",
        "apple = Mobile()\n",
        "\n",
        "samsung.noOfCamera()\n",
        "samsung.processingSpeed()\n",
        "samsung.recordingFacility()\n"
      ],
      "metadata": {
        "colab": {
          "base_uri": "https://localhost:8080/"
        },
        "id": "_W2hny1N8w2S",
        "outputId": "e63c24a9-b21b-4726-ded0-b9d9fd28ad59"
      },
      "execution_count": 20,
      "outputs": [
        {
          "output_type": "stream",
          "name": "stdout",
          "text": [
            "Enter total number of camera2\n",
            "Total number of camera -  2\n",
            "Enter processing speed750\n",
            "Processing speed -  750\n",
            "Enter recording facilityyes\n",
            "Recording facility -  yes\n"
          ]
        }
      ]
    },
    {
      "cell_type": "code",
      "source": [
        "#Creating constants inside a class\n",
        "#In python, any constant valuecan be declared directly inside a class just like a normal variable. That constant value can be called directly with the object of that class\n",
        "\n",
        "class Books:\n",
        "  book_code = 101\n",
        "VIT_book_depo = Books()\n",
        "VIT_book_depo.book_code"
      ],
      "metadata": {
        "colab": {
          "base_uri": "https://localhost:8080/"
        },
        "id": "eUuZmVrJARsD",
        "outputId": "8b866d2b-3598-4e63-e477-8c520a519872"
      },
      "execution_count": 24,
      "outputs": [
        {
          "output_type": "execute_result",
          "data": {
            "text/plain": [
              "101"
            ]
          },
          "metadata": {},
          "execution_count": 24
        }
      ]
    },
    {
      "cell_type": "code",
      "source": [
        "#Create a class library having two different sections. 1) MCA in which all the book code starts by MCA101. Only 3 books are available in MCA section - Java, python, cpp\n",
        "#The another section is Physics section were the code starts from PHY101. 3 books are avilable in that section - thernodynamics, optics, quantam physics.\n",
        "#Ask the user which section he/she wants to visit and display all the books available in that section\n",
        "\n",
        "class Library:\n",
        "  def mca(self):\n",
        "    books = [ \"MCA101Java\",\"MCA101Python\",\"MCA101CPP\"]\n",
        "    print(\"Books are - \")\n",
        "    for i in books:\n",
        "      print(i)\n",
        "  def physics(self):\n",
        "    books = [ \"PHY101Thernodynamics\",\"PHY101Optics\",\"PHY101QuantamPhysics\" ]\n",
        "    print(\"Books are - \")\n",
        "    for i in books:\n",
        "      print(i)\n",
        "\n",
        "userChoice = input(\"Enter department\")\n",
        "if(userChoice.upper() == \"MCA\"):\n",
        "   mca = Library()\n",
        "   mca.mca()\n",
        "elif(userChoice.upper() == \"PHYSICS\"):\n",
        "   physics = Library()\n",
        "   physics.physics()\n",
        "else:\n",
        "  print(\"Department does not exist\")\n",
        "\n",
        "\n"
      ],
      "metadata": {
        "colab": {
          "base_uri": "https://localhost:8080/"
        },
        "id": "u3Uc0A2HAUrN",
        "outputId": "713280f2-9bf0-466b-e789-3988135e7be6"
      },
      "execution_count": 33,
      "outputs": [
        {
          "output_type": "stream",
          "name": "stdout",
          "text": [
            "Enter departmentphysics\n",
            "Books are - \n",
            "PHY101Thernodynamics\n",
            "PHY101Optics\n",
            "PHY101QuantamPhysics\n"
          ]
        }
      ]
    },
    {
      "cell_type": "code",
      "source": [
        "#create a class bank every bank should have some name and bank should provide the loan facility for the home loan a bank should provide 12% of interest with the principal amount of 1 lakh\n",
        "#for the education loan bank provides 10% of interest with the principal amount of 50000 rs\n",
        "#there are two banks from where we can avail the loan facility.\n",
        "#provide the rate and time for any specific type of loan and do compare which particular bank is better to avail the loan facility\n",
        "\n",
        "#solution steps - 1- create a class bank . 2- create a function that can calculate an interest on the basis of rate and time. 3- create a function for the loan types and calculate the actual amount on the basis of above mentioned interests\n",
        "#4- ask the user to input the rate and time for a class object to check the final amount. 5- compare the final amount of both the banks and provide the decision for minimum amount"
      ],
      "metadata": {
        "id": "pyIsjfO8FSL2"
      },
      "execution_count": null,
      "outputs": []
    }
  ]
}