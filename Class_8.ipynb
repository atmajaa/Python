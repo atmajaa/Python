{
  "nbformat": 4,
  "nbformat_minor": 0,
  "metadata": {
    "colab": {
      "provenance": []
    },
    "kernelspec": {
      "name": "python3",
      "display_name": "Python 3"
    },
    "language_info": {
      "name": "python"
    }
  },
  "cells": [
    {
      "cell_type": "code",
      "execution_count": null,
      "metadata": {
        "colab": {
          "base_uri": "https://localhost:8080/"
        },
        "id": "1OlrMdnV-RxV",
        "outputId": "d38c7863-cfbf-4f97-9855-001c3bae7401"
      },
      "outputs": [
        {
          "output_type": "stream",
          "name": "stdout",
          "text": [
            "VIT\n",
            "End sem\n",
            "Atmaja\n",
            "End sem\n"
          ]
        }
      ],
      "source": [
        "class University:\n",
        "  def name(self):\n",
        "    print(\"VIT\")\n",
        "class exam (University):\n",
        "  def work(self):\n",
        "    print(\"End sem\")\n",
        "class Student(exam):\n",
        "  def details(self):\n",
        "    print(\"Atmaja\")\n",
        "MCA = exam()\n",
        "MCA.name()\n",
        "MCA.work()\n",
        "student = Student()\n",
        "student.details()\n",
        "student.work()"
      ]
    },
    {
      "cell_type": "code",
      "source": [
        "#Create a class university that has a function indicating the name of university. The university class is inherited by the admission cell that collects students name\n",
        "#and reg no. The data collected by admission cells further inherited by the exam section. Exam section generated the debared list"
      ],
      "metadata": {
        "id": "6CZOp4CwCLnL"
      },
      "execution_count": null,
      "outputs": []
    },
    {
      "cell_type": "code",
      "source": [
        "class University:\n",
        "  def uniName(self):\n",
        "    print(\"VIT Bhopal University\")\n",
        "class admissionCell (University):\n",
        "  def studentDetails(self):\n",
        "    name = input(\"Enter name - \")\n",
        "    regNo = input(\"Enter reg no - \")\n",
        "class examSec (admissionCell):\n",
        "  def debared(self):\n",
        "    print(\"Not debared\")\n",
        "\n",
        "student = examSec()\n",
        "student.uniName()\n",
        "student.studentDetails()\n",
        "student.debared()"
      ],
      "metadata": {
        "colab": {
          "base_uri": "https://localhost:8080/"
        },
        "id": "upsMR5VRCa4y",
        "outputId": "4deb4ad2-92a3-45ef-9429-d61296d5c93d"
      },
      "execution_count": null,
      "outputs": [
        {
          "output_type": "stream",
          "name": "stdout",
          "text": [
            "VIT Bhopal University\n",
            "Enter nameAtmaja\n",
            "Enter reg no148\n",
            "Not debared\n"
          ]
        }
      ]
    },
    {
      "cell_type": "code",
      "source": [
        "#Defination\n",
        "#Diagram\n",
        "#Syntax\n",
        "#Example"
      ],
      "metadata": {
        "id": "2NNWsXXBESMt"
      },
      "execution_count": null,
      "outputs": []
    },
    {
      "cell_type": "code",
      "source": [
        "#Create a class University that displays the name of university. There is a class researchBody that provides the research funding schemes for the students.\n",
        "#To complete the PG courses a student has to join any university + any research funding body."
      ],
      "metadata": {
        "id": "VsvFjfaCETYp"
      },
      "execution_count": null,
      "outputs": []
    },
    {
      "cell_type": "code",
      "source": [
        "class University:\n",
        "  def uniName(self):\n",
        "    print(\"VIT Bhopal University\")\n",
        "class ResearchBody:\n",
        "  def researchFunding(self):\n",
        "    print(\"SERB\");\n",
        "class Student (University, ResearchBody):\n",
        "  def student(self):\n",
        "    print(\"Atmaja - PG student\")\n",
        "student = Student()\n",
        "student.uniName()\n",
        "student.researchFunding()\n",
        "student.student()"
      ],
      "metadata": {
        "colab": {
          "base_uri": "https://localhost:8080/"
        },
        "id": "2irZWHzVFZQ3",
        "outputId": "c34753de-2384-4fb2-8128-35942430940d"
      },
      "execution_count": null,
      "outputs": [
        {
          "output_type": "stream",
          "name": "stdout",
          "text": [
            "VIT Bhopal University\n",
            "SERB\n",
            "Atmaja - PG student\n"
          ]
        }
      ]
    },
    {
      "cell_type": "code",
      "source": [
        "#Method overriding\n",
        "class University:\n",
        "  def name(self):\n",
        "    print(\"VIT Bhopal University\")\n",
        "class ResearchBody:\n",
        "  def researchFunding(self):\n",
        "    print(\"SERB\");\n",
        "class Student (University, ResearchBody):\n",
        "  def name(self):\n",
        "    print(\"Atmaja - PG student\")\n",
        "student = Student()\n",
        "student.name()\n",
        "student.researchFunding()"
      ],
      "metadata": {
        "colab": {
          "base_uri": "https://localhost:8080/"
        },
        "id": "n-tKkvJ-MiNZ",
        "outputId": "0c3557d2-c87f-4a04-d85d-fd165281bdd6"
      },
      "execution_count": null,
      "outputs": [
        {
          "output_type": "stream",
          "name": "stdout",
          "text": [
            "Atmaja - PG student\n",
            "SERB\n"
          ]
        }
      ]
    },
    {
      "cell_type": "code",
      "source": [
        "#For a university there are 3 basic pillars. 1)Fees collection center 2) Examination center 3)Placement center\n",
        "#All these 3 pillars follow the same uni norms but provide a seperate functionality."
      ],
      "metadata": {
        "id": "f_88nsXbHGwv"
      },
      "execution_count": null,
      "outputs": []
    },
    {
      "cell_type": "code",
      "source": [
        "class University:\n",
        "  def uniName(self):\n",
        "    print(\"VIT Bhopal university\")\n",
        "class FeesCollection (University):\n",
        "  def annualFess(self):\n",
        "    print(\"Fees = 1,42,000\")\n",
        "class ExamCenter (University):\n",
        "  def exam(self):\n",
        "    print(\"Exam Center\")\n",
        "class PAT (University):\n",
        "  def Placement(self):\n",
        "    print(\"Placement and training\")\n",
        "Pat = PAT()\n",
        "Pat.Placement()\n",
        "Pat.uniName()\n",
        "\n",
        "fees = FeesCollection()\n",
        "fees.annualFess()\n",
        "fees.uniName()"
      ],
      "metadata": {
        "colab": {
          "base_uri": "https://localhost:8080/"
        },
        "id": "eLFENpcJHiyg",
        "outputId": "163616c8-a0ef-49e9-e9bd-c12ef6b79f42"
      },
      "execution_count": null,
      "outputs": [
        {
          "output_type": "stream",
          "name": "stdout",
          "text": [
            "Placement and training\n",
            "VIT Bhopal university\n",
            "Fees = 1,42,000\n",
            "VIT Bhopal university\n"
          ]
        }
      ]
    },
    {
      "cell_type": "code",
      "source": [
        "#Every university is having 3 basic pillars - Fees collection, examination and placement. A student has to clear all the requirements of these 3 basic pillars.\n",
        "#There are some research funding bodies that provides special schemes for students as well as the research paper publishing platform. A student can get professional\n",
        "#job only after clearing all the criteria of a university and publishing a research paper. Create a python program using hybrid inheritance"
      ],
      "metadata": {
        "id": "OSj2PF61IGnA"
      },
      "execution_count": null,
      "outputs": []
    },
    {
      "cell_type": "code",
      "source": [
        "class University:\n",
        "  def uniName(self):\n",
        "    print(\"VIT Bhopal University\")\n"
      ],
      "metadata": {
        "id": "ZHjN6kM9J7J9"
      },
      "execution_count": null,
      "outputs": []
    }
  ]
}